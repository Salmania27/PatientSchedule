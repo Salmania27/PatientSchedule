{
  "nbformat": 4,
  "nbformat_minor": 0,
  "metadata": {
    "colab": {
      "provenance": [],
      "authorship_tag": "ABX9TyMn/LHwygUoihkEx2iJ405U",
      "include_colab_link": true
    },
    "kernelspec": {
      "name": "python3",
      "display_name": "Python 3"
    },
    "language_info": {
      "name": "python"
    }
  },
  "cells": [
    {
      "cell_type": "markdown",
      "metadata": {
        "id": "view-in-github",
        "colab_type": "text"
      },
      "source": [
        "<a href=\"https://colab.research.google.com/github/Salmania27/PatientSchedule/blob/main/PKA.ipynb\" target=\"_parent\"><img src=\"https://colab.research.google.com/assets/colab-badge.svg\" alt=\"Open In Colab\"/></a>"
      ]
    },
    {
      "cell_type": "markdown",
      "source": [
        "## Import Dataset\n",
        "\n",
        "\n",
        "\n"
      ],
      "metadata": {
        "id": "MPN-1bvBP9wm"
      }
    },
    {
      "cell_type": "code",
      "execution_count": 1,
      "metadata": {
        "colab": {
          "base_uri": "https://localhost:8080/"
        },
        "id": "4nUbMkDMjSuA",
        "outputId": "2b805d99-bc32-40f0-fe3a-61eea6408cac"
      },
      "outputs": [
        {
          "output_type": "stream",
          "name": "stdout",
          "text": [
            "Mounted at /content/drive/\n"
          ]
        }
      ],
      "source": [
        "from google.colab import drive\n",
        "\n",
        "drive.mount('/content/drive/')"
      ]
    },
    {
      "cell_type": "code",
      "source": [
        "pasien_path = '/content/drive/MyDrive/KULIAH/pasien2.xlsx'"
      ],
      "metadata": {
        "id": "9xf5yKhQlReN"
      },
      "execution_count": 2,
      "outputs": []
    },
    {
      "cell_type": "code",
      "source": [
        "import pandas as pd\n",
        "\n",
        "data = pd.read_excel('/content/drive/MyDrive/KULIAH/pasien2.xlsx')"
      ],
      "metadata": {
        "id": "Grx8grlZlRb8"
      },
      "execution_count": 3,
      "outputs": []
    },
    {
      "cell_type": "code",
      "source": [
        "data.head()"
      ],
      "metadata": {
        "colab": {
          "base_uri": "https://localhost:8080/",
          "height": 293
        },
        "id": "TsVrr3X1zbZw",
        "outputId": "19b11205-7294-4f13-d769-506f63bbb5ec"
      },
      "execution_count": 4,
      "outputs": [
        {
          "output_type": "execute_result",
          "data": {
            "text/plain": [
              "   Encounter ID  Doctor ID Clinic Location  Patient ID Appointment Date/Time  \\\n",
              "0         10001     881452  Marina Del Rey       16195   2022-01-03 08:00:00   \n",
              "1         10002     881452  Marina Del Rey       19287   2022-01-03 08:30:00   \n",
              "2         10003     881452  Marina Del Rey       11941   2022-01-03 08:45:00   \n",
              "3         10004     881452  Marina Del Rey       17461   2022-01-03 09:00:00   \n",
              "4         10005     881452  Marina Del Rey       15477   2022-01-03 09:15:00   \n",
              "\n",
              "  Appointment Type  Appointment Length       Reason For Visit  Priority  \\\n",
              "0      New Patient                  25             Blood test       2.0   \n",
              "1      New Patient                  25   General consultation       3.0   \n",
              "2      New Patient                  40  Diabetes consultation       2.0   \n",
              "3  Follow-up Visit                  25      Stomach emergency       1.0   \n",
              "4      New Patient                  40   Blood pressure check       2.0   \n",
              "\n",
              "  Visit Status  \n",
              "0      No-Show  \n",
              "1    Completed  \n",
              "2    Completed  \n",
              "3    Completed  \n",
              "4    Completed  "
            ],
            "text/html": [
              "\n",
              "  <div id=\"df-eec5f5ae-3ade-4d0d-8416-1da5d7d5d69f\" class=\"colab-df-container\">\n",
              "    <div>\n",
              "<style scoped>\n",
              "    .dataframe tbody tr th:only-of-type {\n",
              "        vertical-align: middle;\n",
              "    }\n",
              "\n",
              "    .dataframe tbody tr th {\n",
              "        vertical-align: top;\n",
              "    }\n",
              "\n",
              "    .dataframe thead th {\n",
              "        text-align: right;\n",
              "    }\n",
              "</style>\n",
              "<table border=\"1\" class=\"dataframe\">\n",
              "  <thead>\n",
              "    <tr style=\"text-align: right;\">\n",
              "      <th></th>\n",
              "      <th>Encounter ID</th>\n",
              "      <th>Doctor ID</th>\n",
              "      <th>Clinic Location</th>\n",
              "      <th>Patient ID</th>\n",
              "      <th>Appointment Date/Time</th>\n",
              "      <th>Appointment Type</th>\n",
              "      <th>Appointment Length</th>\n",
              "      <th>Reason For Visit</th>\n",
              "      <th>Priority</th>\n",
              "      <th>Visit Status</th>\n",
              "    </tr>\n",
              "  </thead>\n",
              "  <tbody>\n",
              "    <tr>\n",
              "      <th>0</th>\n",
              "      <td>10001</td>\n",
              "      <td>881452</td>\n",
              "      <td>Marina Del Rey</td>\n",
              "      <td>16195</td>\n",
              "      <td>2022-01-03 08:00:00</td>\n",
              "      <td>New Patient</td>\n",
              "      <td>25</td>\n",
              "      <td>Blood test</td>\n",
              "      <td>2.0</td>\n",
              "      <td>No-Show</td>\n",
              "    </tr>\n",
              "    <tr>\n",
              "      <th>1</th>\n",
              "      <td>10002</td>\n",
              "      <td>881452</td>\n",
              "      <td>Marina Del Rey</td>\n",
              "      <td>19287</td>\n",
              "      <td>2022-01-03 08:30:00</td>\n",
              "      <td>New Patient</td>\n",
              "      <td>25</td>\n",
              "      <td>General consultation</td>\n",
              "      <td>3.0</td>\n",
              "      <td>Completed</td>\n",
              "    </tr>\n",
              "    <tr>\n",
              "      <th>2</th>\n",
              "      <td>10003</td>\n",
              "      <td>881452</td>\n",
              "      <td>Marina Del Rey</td>\n",
              "      <td>11941</td>\n",
              "      <td>2022-01-03 08:45:00</td>\n",
              "      <td>New Patient</td>\n",
              "      <td>40</td>\n",
              "      <td>Diabetes consultation</td>\n",
              "      <td>2.0</td>\n",
              "      <td>Completed</td>\n",
              "    </tr>\n",
              "    <tr>\n",
              "      <th>3</th>\n",
              "      <td>10004</td>\n",
              "      <td>881452</td>\n",
              "      <td>Marina Del Rey</td>\n",
              "      <td>17461</td>\n",
              "      <td>2022-01-03 09:00:00</td>\n",
              "      <td>Follow-up Visit</td>\n",
              "      <td>25</td>\n",
              "      <td>Stomach emergency</td>\n",
              "      <td>1.0</td>\n",
              "      <td>Completed</td>\n",
              "    </tr>\n",
              "    <tr>\n",
              "      <th>4</th>\n",
              "      <td>10005</td>\n",
              "      <td>881452</td>\n",
              "      <td>Marina Del Rey</td>\n",
              "      <td>15477</td>\n",
              "      <td>2022-01-03 09:15:00</td>\n",
              "      <td>New Patient</td>\n",
              "      <td>40</td>\n",
              "      <td>Blood pressure check</td>\n",
              "      <td>2.0</td>\n",
              "      <td>Completed</td>\n",
              "    </tr>\n",
              "  </tbody>\n",
              "</table>\n",
              "</div>\n",
              "    <div class=\"colab-df-buttons\">\n",
              "\n",
              "  <div class=\"colab-df-container\">\n",
              "    <button class=\"colab-df-convert\" onclick=\"convertToInteractive('df-eec5f5ae-3ade-4d0d-8416-1da5d7d5d69f')\"\n",
              "            title=\"Convert this dataframe to an interactive table.\"\n",
              "            style=\"display:none;\">\n",
              "\n",
              "  <svg xmlns=\"http://www.w3.org/2000/svg\" height=\"24px\" viewBox=\"0 -960 960 960\">\n",
              "    <path d=\"M120-120v-720h720v720H120Zm60-500h600v-160H180v160Zm220 220h160v-160H400v160Zm0 220h160v-160H400v160ZM180-400h160v-160H180v160Zm440 0h160v-160H620v160ZM180-180h160v-160H180v160Zm440 0h160v-160H620v160Z\"/>\n",
              "  </svg>\n",
              "    </button>\n",
              "\n",
              "  <style>\n",
              "    .colab-df-container {\n",
              "      display:flex;\n",
              "      gap: 12px;\n",
              "    }\n",
              "\n",
              "    .colab-df-convert {\n",
              "      background-color: #E8F0FE;\n",
              "      border: none;\n",
              "      border-radius: 50%;\n",
              "      cursor: pointer;\n",
              "      display: none;\n",
              "      fill: #1967D2;\n",
              "      height: 32px;\n",
              "      padding: 0 0 0 0;\n",
              "      width: 32px;\n",
              "    }\n",
              "\n",
              "    .colab-df-convert:hover {\n",
              "      background-color: #E2EBFA;\n",
              "      box-shadow: 0px 1px 2px rgba(60, 64, 67, 0.3), 0px 1px 3px 1px rgba(60, 64, 67, 0.15);\n",
              "      fill: #174EA6;\n",
              "    }\n",
              "\n",
              "    .colab-df-buttons div {\n",
              "      margin-bottom: 4px;\n",
              "    }\n",
              "\n",
              "    [theme=dark] .colab-df-convert {\n",
              "      background-color: #3B4455;\n",
              "      fill: #D2E3FC;\n",
              "    }\n",
              "\n",
              "    [theme=dark] .colab-df-convert:hover {\n",
              "      background-color: #434B5C;\n",
              "      box-shadow: 0px 1px 3px 1px rgba(0, 0, 0, 0.15);\n",
              "      filter: drop-shadow(0px 1px 2px rgba(0, 0, 0, 0.3));\n",
              "      fill: #FFFFFF;\n",
              "    }\n",
              "  </style>\n",
              "\n",
              "    <script>\n",
              "      const buttonEl =\n",
              "        document.querySelector('#df-eec5f5ae-3ade-4d0d-8416-1da5d7d5d69f button.colab-df-convert');\n",
              "      buttonEl.style.display =\n",
              "        google.colab.kernel.accessAllowed ? 'block' : 'none';\n",
              "\n",
              "      async function convertToInteractive(key) {\n",
              "        const element = document.querySelector('#df-eec5f5ae-3ade-4d0d-8416-1da5d7d5d69f');\n",
              "        const dataTable =\n",
              "          await google.colab.kernel.invokeFunction('convertToInteractive',\n",
              "                                                    [key], {});\n",
              "        if (!dataTable) return;\n",
              "\n",
              "        const docLinkHtml = 'Like what you see? Visit the ' +\n",
              "          '<a target=\"_blank\" href=https://colab.research.google.com/notebooks/data_table.ipynb>data table notebook</a>'\n",
              "          + ' to learn more about interactive tables.';\n",
              "        element.innerHTML = '';\n",
              "        dataTable['output_type'] = 'display_data';\n",
              "        await google.colab.output.renderOutput(dataTable, element);\n",
              "        const docLink = document.createElement('div');\n",
              "        docLink.innerHTML = docLinkHtml;\n",
              "        element.appendChild(docLink);\n",
              "      }\n",
              "    </script>\n",
              "  </div>\n",
              "\n",
              "\n",
              "<div id=\"df-32f40ac7-fb61-4fa3-bb4d-ea1a2f526471\">\n",
              "  <button class=\"colab-df-quickchart\" onclick=\"quickchart('df-32f40ac7-fb61-4fa3-bb4d-ea1a2f526471')\"\n",
              "            title=\"Suggest charts\"\n",
              "            style=\"display:none;\">\n",
              "\n",
              "<svg xmlns=\"http://www.w3.org/2000/svg\" height=\"24px\"viewBox=\"0 0 24 24\"\n",
              "     width=\"24px\">\n",
              "    <g>\n",
              "        <path d=\"M19 3H5c-1.1 0-2 .9-2 2v14c0 1.1.9 2 2 2h14c1.1 0 2-.9 2-2V5c0-1.1-.9-2-2-2zM9 17H7v-7h2v7zm4 0h-2V7h2v10zm4 0h-2v-4h2v4z\"/>\n",
              "    </g>\n",
              "</svg>\n",
              "  </button>\n",
              "\n",
              "<style>\n",
              "  .colab-df-quickchart {\n",
              "      --bg-color: #E8F0FE;\n",
              "      --fill-color: #1967D2;\n",
              "      --hover-bg-color: #E2EBFA;\n",
              "      --hover-fill-color: #174EA6;\n",
              "      --disabled-fill-color: #AAA;\n",
              "      --disabled-bg-color: #DDD;\n",
              "  }\n",
              "\n",
              "  [theme=dark] .colab-df-quickchart {\n",
              "      --bg-color: #3B4455;\n",
              "      --fill-color: #D2E3FC;\n",
              "      --hover-bg-color: #434B5C;\n",
              "      --hover-fill-color: #FFFFFF;\n",
              "      --disabled-bg-color: #3B4455;\n",
              "      --disabled-fill-color: #666;\n",
              "  }\n",
              "\n",
              "  .colab-df-quickchart {\n",
              "    background-color: var(--bg-color);\n",
              "    border: none;\n",
              "    border-radius: 50%;\n",
              "    cursor: pointer;\n",
              "    display: none;\n",
              "    fill: var(--fill-color);\n",
              "    height: 32px;\n",
              "    padding: 0;\n",
              "    width: 32px;\n",
              "  }\n",
              "\n",
              "  .colab-df-quickchart:hover {\n",
              "    background-color: var(--hover-bg-color);\n",
              "    box-shadow: 0 1px 2px rgba(60, 64, 67, 0.3), 0 1px 3px 1px rgba(60, 64, 67, 0.15);\n",
              "    fill: var(--button-hover-fill-color);\n",
              "  }\n",
              "\n",
              "  .colab-df-quickchart-complete:disabled,\n",
              "  .colab-df-quickchart-complete:disabled:hover {\n",
              "    background-color: var(--disabled-bg-color);\n",
              "    fill: var(--disabled-fill-color);\n",
              "    box-shadow: none;\n",
              "  }\n",
              "\n",
              "  .colab-df-spinner {\n",
              "    border: 2px solid var(--fill-color);\n",
              "    border-color: transparent;\n",
              "    border-bottom-color: var(--fill-color);\n",
              "    animation:\n",
              "      spin 1s steps(1) infinite;\n",
              "  }\n",
              "\n",
              "  @keyframes spin {\n",
              "    0% {\n",
              "      border-color: transparent;\n",
              "      border-bottom-color: var(--fill-color);\n",
              "      border-left-color: var(--fill-color);\n",
              "    }\n",
              "    20% {\n",
              "      border-color: transparent;\n",
              "      border-left-color: var(--fill-color);\n",
              "      border-top-color: var(--fill-color);\n",
              "    }\n",
              "    30% {\n",
              "      border-color: transparent;\n",
              "      border-left-color: var(--fill-color);\n",
              "      border-top-color: var(--fill-color);\n",
              "      border-right-color: var(--fill-color);\n",
              "    }\n",
              "    40% {\n",
              "      border-color: transparent;\n",
              "      border-right-color: var(--fill-color);\n",
              "      border-top-color: var(--fill-color);\n",
              "    }\n",
              "    60% {\n",
              "      border-color: transparent;\n",
              "      border-right-color: var(--fill-color);\n",
              "    }\n",
              "    80% {\n",
              "      border-color: transparent;\n",
              "      border-right-color: var(--fill-color);\n",
              "      border-bottom-color: var(--fill-color);\n",
              "    }\n",
              "    90% {\n",
              "      border-color: transparent;\n",
              "      border-bottom-color: var(--fill-color);\n",
              "    }\n",
              "  }\n",
              "</style>\n",
              "\n",
              "  <script>\n",
              "    async function quickchart(key) {\n",
              "      const quickchartButtonEl =\n",
              "        document.querySelector('#' + key + ' button');\n",
              "      quickchartButtonEl.disabled = true;  // To prevent multiple clicks.\n",
              "      quickchartButtonEl.classList.add('colab-df-spinner');\n",
              "      try {\n",
              "        const charts = await google.colab.kernel.invokeFunction(\n",
              "            'suggestCharts', [key], {});\n",
              "      } catch (error) {\n",
              "        console.error('Error during call to suggestCharts:', error);\n",
              "      }\n",
              "      quickchartButtonEl.classList.remove('colab-df-spinner');\n",
              "      quickchartButtonEl.classList.add('colab-df-quickchart-complete');\n",
              "    }\n",
              "    (() => {\n",
              "      let quickchartButtonEl =\n",
              "        document.querySelector('#df-32f40ac7-fb61-4fa3-bb4d-ea1a2f526471 button');\n",
              "      quickchartButtonEl.style.display =\n",
              "        google.colab.kernel.accessAllowed ? 'block' : 'none';\n",
              "    })();\n",
              "  </script>\n",
              "</div>\n",
              "\n",
              "    </div>\n",
              "  </div>\n"
            ],
            "application/vnd.google.colaboratory.intrinsic+json": {
              "type": "dataframe",
              "variable_name": "data",
              "summary": "{\n  \"name\": \"data\",\n  \"rows\": 81,\n  \"fields\": [\n    {\n      \"column\": \"Encounter ID\",\n      \"properties\": {\n        \"dtype\": \"number\",\n        \"std\": 23,\n        \"min\": 10001,\n        \"max\": 10081,\n        \"num_unique_values\": 81,\n        \"samples\": [\n          10031,\n          10001,\n          10023\n        ],\n        \"semantic_type\": \"\",\n        \"description\": \"\"\n      }\n    },\n    {\n      \"column\": \"Doctor ID\",\n      \"properties\": {\n        \"dtype\": \"number\",\n        \"std\": 0,\n        \"min\": 881452,\n        \"max\": 881452,\n        \"num_unique_values\": 1,\n        \"samples\": [\n          881452\n        ],\n        \"semantic_type\": \"\",\n        \"description\": \"\"\n      }\n    },\n    {\n      \"column\": \"Clinic Location\",\n      \"properties\": {\n        \"dtype\": \"category\",\n        \"num_unique_values\": 1,\n        \"samples\": [\n          \"Marina Del Rey\"\n        ],\n        \"semantic_type\": \"\",\n        \"description\": \"\"\n      }\n    },\n    {\n      \"column\": \"Patient ID\",\n      \"properties\": {\n        \"dtype\": \"number\",\n        \"std\": 2831,\n        \"min\": 10040,\n        \"max\": 19646,\n        \"num_unique_values\": 81,\n        \"samples\": [\n          11583\n        ],\n        \"semantic_type\": \"\",\n        \"description\": \"\"\n      }\n    },\n    {\n      \"column\": \"Appointment Date/Time\",\n      \"properties\": {\n        \"dtype\": \"date\",\n        \"min\": \"2022-01-03 08:00:00\",\n        \"max\": \"2022-01-10 06:15:00\",\n        \"num_unique_values\": 81,\n        \"samples\": [\n          \"2022-01-05 10:00:00\"\n        ],\n        \"semantic_type\": \"\",\n        \"description\": \"\"\n      }\n    },\n    {\n      \"column\": \"Appointment Type\",\n      \"properties\": {\n        \"dtype\": \"category\",\n        \"num_unique_values\": 3,\n        \"samples\": [\n          \"New Patient\"\n        ],\n        \"semantic_type\": \"\",\n        \"description\": \"\"\n      }\n    },\n    {\n      \"column\": \"Appointment Length\",\n      \"properties\": {\n        \"dtype\": \"number\",\n        \"std\": 10,\n        \"min\": 15,\n        \"max\": 70,\n        \"num_unique_values\": 7,\n        \"samples\": [\n          25\n        ],\n        \"semantic_type\": \"\",\n        \"description\": \"\"\n      }\n    },\n    {\n      \"column\": \"Reason For Visit\",\n      \"properties\": {\n        \"dtype\": \"category\",\n        \"num_unique_values\": 8,\n        \"samples\": [\n          \"General consultation\"\n        ],\n        \"semantic_type\": \"\",\n        \"description\": \"\"\n      }\n    },\n    {\n      \"column\": \"Priority\",\n      \"properties\": {\n        \"dtype\": \"number\",\n        \"std\": 0.7286762181991608,\n        \"min\": 1.0,\n        \"max\": 3.0,\n        \"num_unique_values\": 3,\n        \"samples\": [\n          2.0\n        ],\n        \"semantic_type\": \"\",\n        \"description\": \"\"\n      }\n    },\n    {\n      \"column\": \"Visit Status\",\n      \"properties\": {\n        \"dtype\": \"category\",\n        \"num_unique_values\": 4,\n        \"samples\": [\n          \"Completed\"\n        ],\n        \"semantic_type\": \"\",\n        \"description\": \"\"\n      }\n    }\n  ]\n}"
            }
          },
          "metadata": {},
          "execution_count": 4
        }
      ]
    },
    {
      "cell_type": "code",
      "source": [
        "print(data.dtypes)"
      ],
      "metadata": {
        "colab": {
          "base_uri": "https://localhost:8080/"
        },
        "id": "2-aR2bsflRZE",
        "outputId": "524212bf-4e78-4d57-936e-40820e7d0f28"
      },
      "execution_count": 5,
      "outputs": [
        {
          "output_type": "stream",
          "name": "stdout",
          "text": [
            "Encounter ID                      int64\n",
            "Doctor ID                         int64\n",
            "Clinic Location                  object\n",
            "Patient ID                        int64\n",
            "Appointment Date/Time    datetime64[ns]\n",
            "Appointment Type                 object\n",
            "Appointment Length                int64\n",
            "Reason For Visit                 object\n",
            "Priority                        float64\n",
            "Visit Status                     object\n",
            "dtype: object\n"
          ]
        }
      ]
    },
    {
      "cell_type": "code",
      "source": [
        "data.rename(columns={'Encounter ID': 'Encounter_ID',\n",
        "                     'Doctor ID': 'Doctor_ID',\n",
        "                     'Patient ID': 'Patient_ID',\n",
        "                     'Appointment Date/Time': 'Appointment_Time',\n",
        "                     'Appointment Type': 'Appointment_Type',\n",
        "                     'Appointment Length': 'Duration',\n",
        "                     'Reason For Visit' : 'Complaint' }, inplace=True)\n",
        "\n",
        "print(data.columns)"
      ],
      "metadata": {
        "colab": {
          "base_uri": "https://localhost:8080/"
        },
        "id": "89KNqr1rlRWq",
        "outputId": "b52fc1d3-06aa-4aea-e7f5-7a2a247d258d"
      },
      "execution_count": 6,
      "outputs": [
        {
          "output_type": "stream",
          "name": "stdout",
          "text": [
            "Index(['Encounter_ID', 'Doctor_ID', 'Clinic Location', 'Patient_ID',\n",
            "       'Appointment_Time', 'Appointment_Type', 'Duration', 'Complaint',\n",
            "       'Priority', 'Visit Status'],\n",
            "      dtype='object')\n"
          ]
        }
      ]
    },
    {
      "cell_type": "code",
      "source": [
        "# Mengubah Appointment ke format datetime\n",
        "data['Appointment_Time'] = pd.to_datetime(data['Appointment_Time'], errors='coerce')"
      ],
      "metadata": {
        "id": "PaobUi7WlRUF"
      },
      "execution_count": 7,
      "outputs": []
    },
    {
      "cell_type": "code",
      "source": [
        "# Konversi kolom durasi ke format timedelta\n",
        "data['Duration'] = pd.to_timedelta(data['Duration'], unit='m')\n",
        "\n",
        "print(data.dtypes)"
      ],
      "metadata": {
        "colab": {
          "base_uri": "https://localhost:8080/"
        },
        "id": "hmso27rS2Pp5",
        "outputId": "773b6d6a-a09b-4ec3-88a9-59347d8d9d19"
      },
      "execution_count": 8,
      "outputs": [
        {
          "output_type": "stream",
          "name": "stdout",
          "text": [
            "Encounter_ID                  int64\n",
            "Doctor_ID                     int64\n",
            "Clinic Location              object\n",
            "Patient_ID                    int64\n",
            "Appointment_Time     datetime64[ns]\n",
            "Appointment_Type             object\n",
            "Duration            timedelta64[ns]\n",
            "Complaint                    object\n",
            "Priority                    float64\n",
            "Visit Status                 object\n",
            "dtype: object\n"
          ]
        }
      ]
    },
    {
      "cell_type": "code",
      "source": [
        "# Tambahkan kolom waktu selesai (End_Time)\n",
        "data['End_Time'] = data['Appointment_Time'] + data['Duration']"
      ],
      "metadata": {
        "id": "x7DxhRlP2Pnt"
      },
      "execution_count": 9,
      "outputs": []
    },
    {
      "cell_type": "code",
      "source": [
        "data.drop(['Encounter_ID','Doctor_ID', 'Clinic Location'], axis=1, inplace=True)\n",
        "\n",
        "print(data.head())"
      ],
      "metadata": {
        "colab": {
          "base_uri": "https://localhost:8080/"
        },
        "id": "UYGG9qjA7jRP",
        "outputId": "bab19559-0b68-45f3-8fb5-351edb7cae0d"
      },
      "execution_count": 10,
      "outputs": [
        {
          "output_type": "stream",
          "name": "stdout",
          "text": [
            "   Patient_ID    Appointment_Time Appointment_Type        Duration  \\\n",
            "0       16195 2022-01-03 08:00:00      New Patient 0 days 00:25:00   \n",
            "1       19287 2022-01-03 08:30:00      New Patient 0 days 00:25:00   \n",
            "2       11941 2022-01-03 08:45:00      New Patient 0 days 00:40:00   \n",
            "3       17461 2022-01-03 09:00:00  Follow-up Visit 0 days 00:25:00   \n",
            "4       15477 2022-01-03 09:15:00      New Patient 0 days 00:40:00   \n",
            "\n",
            "               Complaint  Priority Visit Status            End_Time  \n",
            "0             Blood test       2.0      No-Show 2022-01-03 08:25:00  \n",
            "1   General consultation       3.0    Completed 2022-01-03 08:55:00  \n",
            "2  Diabetes consultation       2.0    Completed 2022-01-03 09:25:00  \n",
            "3      Stomach emergency       1.0    Completed 2022-01-03 09:25:00  \n",
            "4   Blood pressure check       2.0    Completed 2022-01-03 09:55:00  \n"
          ]
        }
      ]
    },
    {
      "cell_type": "code",
      "source": [
        "data_sorted = data.sort_values(by='End_Time')\n",
        "print(\"\\nData setelah diurutkan berdasarkan End_Time:\\n\", data_sorted)"
      ],
      "metadata": {
        "colab": {
          "base_uri": "https://localhost:8080/"
        },
        "id": "Tf_OqwnsMLbC",
        "outputId": "55b8f1e3-9c13-450a-bb8e-4e5de2df3e76"
      },
      "execution_count": 11,
      "outputs": [
        {
          "output_type": "stream",
          "name": "stdout",
          "text": [
            "\n",
            "Data setelah diurutkan berdasarkan End_Time:\n",
            "     Patient_ID    Appointment_Time Appointment_Type        Duration  \\\n",
            "0        16195 2022-01-03 08:00:00      New Patient 0 days 00:25:00   \n",
            "1        19287 2022-01-03 08:30:00      New Patient 0 days 00:25:00   \n",
            "2        11941 2022-01-03 08:45:00      New Patient 0 days 00:40:00   \n",
            "3        17461 2022-01-03 09:00:00  Follow-up Visit 0 days 00:25:00   \n",
            "4        15477 2022-01-03 09:15:00      New Patient 0 days 00:40:00   \n",
            "..         ...                 ...              ...             ...   \n",
            "76       18173 2022-01-10 05:00:00      New Patient 0 days 00:40:00   \n",
            "77       17097 2022-01-10 05:30:00  Follow-up Visit 0 days 00:25:00   \n",
            "78       11129 2022-01-10 05:45:00  Follow-up Visit 0 days 00:25:00   \n",
            "79       13891 2022-01-10 06:00:00  Follow-up Visit 0 days 00:15:00   \n",
            "80       16952 2022-01-10 06:15:00      New Patient 0 days 00:45:00   \n",
            "\n",
            "                Complaint  Priority Visit Status            End_Time  \n",
            "0              Blood test       2.0      No-Show 2022-01-03 08:25:00  \n",
            "1    General consultation       3.0    Completed 2022-01-03 08:55:00  \n",
            "2   Diabetes consultation       2.0    Completed 2022-01-03 09:25:00  \n",
            "3       Stomach emergency       1.0    Completed 2022-01-03 09:25:00  \n",
            "4    Blood pressure check       2.0    Completed 2022-01-03 09:55:00  \n",
            "..                    ...       ...          ...                 ...  \n",
            "76  Diabetes consultation       2.0      No-Show 2022-01-10 05:40:00  \n",
            "77             Blood test       2.0    Completed 2022-01-10 05:55:00  \n",
            "78   General consultation       3.0    Completed 2022-01-10 06:10:00  \n",
            "79   General consultation       3.0    Completed 2022-01-10 06:15:00  \n",
            "80   General consultation       3.0    Completed 2022-01-10 07:00:00  \n",
            "\n",
            "[81 rows x 8 columns]\n"
          ]
        }
      ]
    },
    {
      "cell_type": "markdown",
      "source": [
        "## Optimasi Penjadwalan Pasien"
      ],
      "metadata": {
        "id": "DmAO85wFQLKD"
      }
    },
    {
      "cell_type": "code",
      "source": [
        "from datetime import datetime\n",
        "\n",
        "# Waktu kerja harian\n",
        "working_hours = {\n",
        "    'Monday': ('08:00:00', '18:00:00'),\n",
        "    'Tuesday': ('08:00:00', '18:00:00'),\n",
        "    'Wednesday': ('08:00:00', '18:00:00'),\n",
        "    'Thursday': ('08:00:00', '18:00:00'),\n",
        "    'Friday': ('08:00:00', '15:00:00'),\n",
        "    'Saturday': ('08:00:00', '15:00:00'),\n",
        "    'Sunday': ('08:00:00', '15:00:00')\n",
        "}\n",
        "\n",
        "def get_working_hours_for_day(day_name):\n",
        "    start_str, end_str = working_hours.get(day_name, (working_hours)) # Default jika hari tidak ditemukan\n",
        "    start_time = pd.Timestamp(start_str).time()\n",
        "    end_time = pd.Timestamp(end_str).time()\n",
        "    return start_time, end_time"
      ],
      "metadata": {
        "id": "RNKuzRWoMP2h"
      },
      "execution_count": 20,
      "outputs": []
    },
    {
      "cell_type": "code",
      "source": [
        "# Algoritma greedy untuk memilih pasien sebanyak mungkin dalam satu hari\n",
        "def greedy_schedule_per_day(data_sorted):\n",
        "    daily_schedules = {}\n",
        "    # Mengambil tanggal unik dari kolom 'Appointment_Time'\n",
        "    unique_dates = data_sorted['Appointment_Time'].dt.date.unique()\n",
        "\n",
        "    def is_within_working_hours(end_time, start_time_of_day, end_time_of_day):\n",
        "        # Cek apakah end_time dalam batas jam kerja hari itu\n",
        "        return start_time_of_day <= end_time.time() <= end_time_of_day\n",
        "\n",
        "    for day in unique_dates:\n",
        "        day_name = pd.Timestamp(day).day_name()\n",
        "        start_time_of_day, end_time_of_day = get_working_hours_for_day(day_name)\n",
        "\n",
        "        # Menggabungkan tanggal dan waktu mulai kerja\n",
        "        last_end_time = datetime.combine(day, start_time_of_day)\n",
        "        daily_schedules[day] = []  # Initialize an empty list for each day\n",
        "\n",
        "        for index, row in data_sorted.iterrows():\n",
        "            if row['Appointment_Time'].date() == day:\n",
        "                if row['Appointment_Time'] >= last_end_time and is_within_working_hours(row['End_Time'], start_time_of_day, end_time_of_day):\n",
        "                    # Tambahkan ke jadwal\n",
        "                    daily_schedules[day].append({\n",
        "                        'Patient_ID': row['Patient_ID'],\n",
        "                        'Appointment_Time': row['Appointment_Time'],\n",
        "                        'End_Time': row['End_Time'],\n",
        "                        'Complaint': row['Complaint'],\n",
        "                        'Priority': row['Priority']\n",
        "                    })\n",
        "                    last_end_time = row['End_Time']  # Update waktu selesai terakhir yang dipilih\n",
        "\n",
        "    return daily_schedules"
      ],
      "metadata": {
        "id": "G8xPZL29MP0a"
      },
      "execution_count": 21,
      "outputs": []
    },
    {
      "cell_type": "code",
      "source": [
        "# Mengurutkan berdasarkan kolom 'Priority' dan 'Appointment_Time'\n",
        "data_sorted = data.sort_values(by=['Priority', 'Appointment_Time'])"
      ],
      "metadata": {
        "id": "By0T177ccav9"
      },
      "execution_count": 22,
      "outputs": []
    },
    {
      "cell_type": "code",
      "source": [
        "# Hasil penjadwalan harian\n",
        "daily_schedules = greedy_schedule_per_day(data_sorted)"
      ],
      "metadata": {
        "id": "egZ1F8SoejXH"
      },
      "execution_count": 23,
      "outputs": []
    },
    {
      "cell_type": "code",
      "source": [
        "# Tampilkan hasil jadwal\n",
        "for day, schedule in daily_schedules.items():\n",
        "    print(f\"\\nJadwal pasien pada {day}:\")\n",
        "    if not schedule:\n",
        "        print(\"  Tidak ada pasien yang dijadwalkan.\")\n",
        "    else:\n",
        "        for entry in schedule:\n",
        "            print(f\"  ID: {entry['Patient_ID']}, Start: {entry['Appointment_Time']}, End: {entry['End_Time']}, Reason: {entry['Complaint']}, Priority: {entry['Priority']} \")"
      ],
      "metadata": {
        "colab": {
          "base_uri": "https://localhost:8080/"
        },
        "id": "ksqvlP0wMPxi",
        "outputId": "a598474e-00c5-4809-901a-b2c13d01cbbd"
      },
      "execution_count": 24,
      "outputs": [
        {
          "output_type": "stream",
          "name": "stdout",
          "text": [
            "\n",
            "Jadwal pasien pada 2022-01-03:\n",
            "  ID: 17461, Start: 2022-01-03 09:00:00, End: 2022-01-03 09:25:00, Reason: Stomach emergency, Priority: 1.0 \n",
            "  ID: 10040, Start: 2022-01-03 09:45:00, End: 2022-01-03 10:10:00, Reason: Surgical consult, Priority: 1.0 \n",
            "  ID: 17379, Start: 2022-01-03 11:15:00, End: 2022-01-03 11:40:00, Reason: Stomach emergency, Priority: 1.0 \n",
            "  ID: 13912, Start: 2022-01-03 13:45:00, End: 2022-01-03 14:10:00, Reason: Stomach emergency, Priority: 1.0 \n",
            "  ID: 19279, Start: 2022-01-03 14:30:00, End: 2022-01-03 15:00:00, Reason: Blood pressure check, Priority: 2.0 \n",
            "  ID: 14089, Start: 2022-01-03 15:00:00, End: 2022-01-03 15:25:00, Reason: Blood pressure check, Priority: 2.0 \n",
            "  ID: 18020, Start: 2022-01-03 15:30:00, End: 2022-01-03 15:55:00, Reason: Blood pressure check, Priority: 2.0 \n",
            "\n",
            "Jadwal pasien pada 2022-01-05:\n",
            "  ID: 12771, Start: 2022-01-05 09:30:00, End: 2022-01-05 10:10:00, Reason: Surgical consult, Priority: 1.0 \n",
            "  ID: 16043, Start: 2022-01-05 10:45:00, End: 2022-01-05 11:10:00, Reason: Stomach emergency, Priority: 1.0 \n",
            "  ID: 16392, Start: 2022-01-05 12:30:00, End: 2022-01-05 13:00:00, Reason: Stomach emergency, Priority: 1.0 \n",
            "  ID: 10236, Start: 2022-01-05 13:15:00, End: 2022-01-05 13:45:00, Reason: Stomach emergency, Priority: 1.0 \n",
            "  ID: 13863, Start: 2022-01-05 15:30:00, End: 2022-01-05 15:55:00, Reason: Blood pressure check, Priority: 2.0 \n",
            "\n",
            "Jadwal pasien pada 2022-01-06:\n",
            "  ID: 18190, Start: 2022-01-06 08:15:00, End: 2022-01-06 08:30:00, Reason: Stomach emergency, Priority: 1.0 \n",
            "  ID: 15259, Start: 2022-01-06 09:00:00, End: 2022-01-06 09:40:00, Reason: Stomach emergency, Priority: 1.0 \n",
            "  ID: 12715, Start: 2022-01-06 11:30:00, End: 2022-01-06 12:10:00, Reason: Stomach emergency, Priority: 1.0 \n",
            "  ID: 17216, Start: 2022-01-06 13:00:00, End: 2022-01-06 13:15:00, Reason: Surgical consult, Priority: 1.0 \n",
            "  ID: 10952, Start: 2022-01-06 13:15:00, End: 2022-01-06 13:40:00, Reason: Surgical consult, Priority: 1.0 \n",
            "  ID: 18611, Start: 2022-01-06 14:30:00, End: 2022-01-06 14:55:00, Reason: Stomach emergency, Priority: 1.0 \n",
            "  ID: 12077, Start: 2022-01-06 15:00:00, End: 2022-01-06 16:00:00, Reason: Surgical consult, Priority: 1.0 \n",
            "\n",
            "Jadwal pasien pada 2022-01-07:\n",
            "  ID: 12457, Start: 2022-01-07 08:30:00, End: 2022-01-07 09:00:00, Reason: Surgical consult, Priority: 1.0 \n",
            "  ID: 18484, Start: 2022-01-07 10:00:00, End: 2022-01-07 10:30:00, Reason: Stomach emergency, Priority: 1.0 \n",
            "  ID: 19091, Start: 2022-01-07 12:30:00, End: 2022-01-07 12:45:00, Reason: Surgical consult, Priority: 1.0 \n",
            "  ID: 18155, Start: 2022-01-07 12:45:00, End: 2022-01-07 13:10:00, Reason: Surgical consult, Priority: 1.0 \n",
            "  ID: 18210, Start: 2022-01-07 14:30:00, End: 2022-01-07 14:45:00, Reason: Stomach emergency, Priority: 1.0 \n",
            "  ID: 19551, Start: 2022-01-07 14:45:00, End: 2022-01-07 15:00:00, Reason: Blood test, Priority: 2.0 \n",
            "\n",
            "Jadwal pasien pada 2022-01-10:\n",
            "  Tidak ada pasien yang dijadwalkan.\n"
          ]
        }
      ]
    },
    {
      "cell_type": "markdown",
      "source": [
        "## Bar Chart"
      ],
      "metadata": {
        "id": "7rpF0QxzhMdo"
      }
    },
    {
      "cell_type": "code",
      "source": [
        "import matplotlib.pyplot as plt\n",
        "import seaborn as sns\n",
        "import pandas as pd\n",
        "\n",
        "# Membuat dictionary untuk menyimpan jumlah pasien per hari\n",
        "patient_count_per_day = {day: len(schedule) for day, schedule in daily_schedules.items()}\n",
        "\n",
        "# Mengubah dictionary menjadi dataframe agar mudah diproses\n",
        "df_patient_count = pd.DataFrame(list(patient_count_per_day.items()), columns=['Date', 'Patient_Count'])\n",
        "\n",
        "# Mengurutkan data berdasarkan tanggal\n",
        "df_patient_count['Date'] = pd.to_datetime(df_patient_count['Date'])\n",
        "df_patient_count = df_patient_count.sort_values(by='Date')\n",
        "\n",
        "# Plotting menggunakan seaborn dan matplotlib\n",
        "plt.figure(figsize=(10, 6))\n",
        "sns.barplot(x='Date', y='Patient_Count', data=df_patient_count, palette='Blues_d')\n",
        "\n",
        "# Menambahkan judul dan label\n",
        "plt.title('Jumlah Pasien per Hari', fontsize=16)\n",
        "plt.xlabel('Tanggal', fontsize=14)\n",
        "plt.ylabel('Jumlah Pasien', fontsize=14)\n",
        "plt.xticks(rotation=45)  # Untuk memutar label tanggal agar terbaca\n",
        "\n",
        "# Menampilkan grafik\n",
        "plt.show()\n"
      ],
      "metadata": {
        "colab": {
          "base_uri": "https://localhost:8080/",
          "height": 733
        },
        "id": "QUVEvJrWgEAb",
        "outputId": "a6a97a89-30ef-4097-a9c9-5083fab852d1"
      },
      "execution_count": 26,
      "outputs": [
        {
          "output_type": "stream",
          "name": "stderr",
          "text": [
            "<ipython-input-26-4975ff20c892>:17: FutureWarning: \n",
            "\n",
            "Passing `palette` without assigning `hue` is deprecated and will be removed in v0.14.0. Assign the `x` variable to `hue` and set `legend=False` for the same effect.\n",
            "\n",
            "  sns.barplot(x='Date', y='Patient_Count', data=df_patient_count, palette='Blues_d')\n"
          ]
        },
        {
          "output_type": "display_data",
          "data": {
            "text/plain": [
              "<Figure size 1000x600 with 1 Axes>"
            ],
            "image/png": "[encoded data removed]"
          },
          "metadata": {}
        }
      ]
    }
  ]
}